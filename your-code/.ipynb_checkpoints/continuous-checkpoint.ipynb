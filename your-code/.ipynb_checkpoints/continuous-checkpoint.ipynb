{
 "cells": [
  {
   "cell_type": "markdown",
   "metadata": {},
   "source": [
    "# Before your start:\n",
    "\n",
    "    Read the README.md file\n",
    "    Comment as much as you can and use the resources (README.md file)\n",
    "    Happy learning!"
   ]
  },
  {
   "cell_type": "markdown",
   "metadata": {},
   "source": [
    "In this exercise, we  will generate random numbers from the continuous disributions we learned in the lesson. There are two ways to generate random numbers:\n",
    "\n",
    "1. Using the numpy library \n",
    "1. using the Scipy library \n",
    "\n",
    "Use either or both of the lbraries in this exercise."
   ]
  },
  {
   "cell_type": "code",
   "execution_count": 76,
   "metadata": {},
   "outputs": [],
   "source": [
    "import numpy as np\n",
    "import math\n",
    "import pandas as pd\n",
    "import matplotlib.pyplot as plt\n",
    "\n",
    "from scipy.stats import uniform\n",
    "from scipy.stats import expon\n",
    "from scipy.stats import norm"
   ]
  },
  {
   "cell_type": "markdown",
   "metadata": {},
   "source": [
    "## Uniform Distribution\n",
    "\n",
    "To generate uniform random numbers between any two given values using scipy, we can either use the following code or the code that we have\n",
    "discussed in class:"
   ]
  },
  {
   "cell_type": "code",
   "execution_count": 1,
   "metadata": {},
   "outputs": [
    {
     "name": "stdout",
     "output_type": "stream",
     "text": [
      "[2.42349971 2.06786168 2.42749398 2.69980077 2.73351087 2.93322003\n",
      " 2.92291871 2.98154422 2.64090011 2.20626778]\n"
     ]
    }
   ],
   "source": [
    "from scipy.stats import uniform\n",
    "x = uniform.rvs(size=10)\n",
    "a = 2\n",
    "b = 3\n",
    "randoms  = a + (b-a)*x\n",
    "print(randoms)"
   ]
  },
  {
   "cell_type": "markdown",
   "metadata": {},
   "source": [
    "**Your task:**\n",
    "\n",
    "1. Based on the code above, write a function that generates uniformly distributed random numbers. There are several requirements for your function:\n",
    "    * It should accept 3 parameters: \n",
    "        * `bottom` - the lower boundary of the generated numbers\n",
    "        * `ceiling` - the upper boundary of the generated numbers\n",
    "        * `count` - how many numbers to generate\n",
    "    * It should return an array of uniformly distributed random numbers\n",
    "\n",
    "1. Call your function with 2 sets of params below:\n",
    "    * bottom=10, ceiling=15, count=100\n",
    "    * bottom=10, ceiling=60, count=1,000\n",
    "\n",
    "1. Plot the uniform distributions generated above using histograms, where x axis is the value and y axis is the count. Let the histogram's number of bins be 10.\n",
    "\n",
    "Your output should look like below:\n",
    "\n",
    "![uniform distribution](ud.png)"
   ]
  },
  {
   "cell_type": "code",
   "execution_count": 13,
   "metadata": {},
   "outputs": [],
   "source": [
    "# your code here\n",
    "def uni_dist_rand_values(bottom,ceiling,count):\n",
    "    x = uniform.rvs(size=count)\n",
    "    randoms  = bottom + (ceiling-bottom)*x\n",
    "    #print(randoms)\n",
    "    return randoms"
   ]
  },
  {
   "cell_type": "code",
   "execution_count": 14,
   "metadata": {},
   "outputs": [
    {
     "data": {
      "text/plain": [
       "array([14.30297339, 13.31271048, 10.19678708, 14.69003751, 11.09484211,\n",
       "       10.69344344, 14.11769615, 11.30562158, 11.87648428, 12.74859659,\n",
       "       12.7027657 , 10.60751127, 13.17377771, 10.75967377, 11.6862211 ,\n",
       "       12.83136003, 13.20337198, 10.61173685, 10.11501403, 13.72958396,\n",
       "       12.34290746, 11.1715681 , 11.56013575, 13.78365086, 12.32697146,\n",
       "       11.23044951, 11.15641729, 12.47089242, 12.69034545, 13.16201049,\n",
       "       14.6342244 , 13.73218742, 13.43290999, 10.74217897, 13.27030843,\n",
       "       12.38672494, 11.61858627, 12.77013983, 11.90311024, 10.75344169,\n",
       "       13.70356127, 12.64665382, 12.51554278, 12.07914608, 11.75477813,\n",
       "       12.73048342, 12.84948105, 12.9403426 , 14.43990842, 11.02179407,\n",
       "       10.09546555, 13.88562248, 13.05753877, 13.89314703, 10.62568728,\n",
       "       11.77212707, 14.96069135, 11.39592029, 14.77653717, 12.25881598,\n",
       "       11.30868556, 11.26579307, 13.21368896, 13.3125457 , 13.59448335,\n",
       "       13.76907066, 14.26173844, 10.67005484, 11.63636367, 10.5404751 ,\n",
       "       14.88805036, 14.13344024, 11.79196938, 10.41516787, 13.24320628,\n",
       "       12.52747334, 14.70355182, 14.16969606, 10.0460486 , 10.98521844,\n",
       "       13.28963724, 10.44944168, 10.51885288, 11.45557193, 10.76785998,\n",
       "       14.92761336, 11.9103347 , 11.98091547, 10.45266577, 12.78649977,\n",
       "       14.00656901, 13.90309897, 12.11229634, 12.16176694, 12.4082863 ,\n",
       "       11.67325695, 14.87783443, 14.84336942, 10.40466284, 13.3148373 ])"
      ]
     },
     "execution_count": 14,
     "metadata": {},
     "output_type": "execute_result"
    }
   ],
   "source": [
    "set1=uni_dist_rand_values(bottom=10, ceiling=15, count=100) #bottom=10, ceiling=15, count=100\n",
    "set1"
   ]
  },
  {
   "cell_type": "code",
   "execution_count": 17,
   "metadata": {
    "scrolled": false
   },
   "outputs": [],
   "source": [
    "set2=uni_dist_rand_values(bottom=10, ceiling=60, count=1000)\n",
    "#set2"
   ]
  },
  {
   "cell_type": "code",
   "execution_count": 28,
   "metadata": {
    "scrolled": true
   },
   "outputs": [
    {
     "data": {
      "image/png": "[encoded data removed]",
      "text/plain": [
       "<Figure size 432x288 with 1 Axes>"
      ]
     },
     "metadata": {
      "needs_background": "light"
     },
     "output_type": "display_data"
    }
   ],
   "source": [
    "#plt.hist(set1, 100) \n",
    "count, bins, ignored = plt.hist(set1, 10, facecolor='green') \n",
    "\n",
    "plt.xlabel('X~U[10,15]')\n",
    "plt.ylabel('Count')\n",
    "plt.title(\"Uniform Distribution Histogram (Bin size 10)\")\n",
    "plt.axis([10, 15, 0, 120]) # x_start, x_end, y_start, y_end\n",
    "plt.grid(True)\n",
    "\n",
    "plt.show(block = False)\n",
    "#https://stackoverflow.com/questions/22744577/plotting-basic-uniform-distribution-on-python"
   ]
  },
  {
   "cell_type": "code",
   "execution_count": 29,
   "metadata": {
    "scrolled": true
   },
   "outputs": [
    {
     "data": {
      "image/png": "[encoded data removed]",
      "text/plain": [
       "<Figure size 432x288 with 1 Axes>"
      ]
     },
     "metadata": {
      "needs_background": "light"
     },
     "output_type": "display_data"
    }
   ],
   "source": [
    "count, bins, ignored = plt.hist(set2, 10, facecolor='green') \n",
    "\n",
    "plt.xlabel('X~U[10,60]')\n",
    "plt.ylabel('Count')\n",
    "plt.title(\"Uniform Distribution Histogram (Bin size 10)\")\n",
    "plt.axis([10, 60, 0, 120]) # x_start, x_end, y_start, y_end\n",
    "plt.grid(True)\n",
    "\n",
    "plt.show(block = False)\n",
    "#https://stackoverflow.com/questions/22744577/plotting-basic-uniform-distribution-on-python"
   ]
  },
  {
   "cell_type": "code",
   "execution_count": 42,
   "metadata": {},
   "outputs": [
    {
     "data": {
      "text/plain": [
       "Text(0, 0.5, 'Count')"
      ]
     },
     "execution_count": 42,
     "metadata": {},
     "output_type": "execute_result"
    },
    {
     "data": {
      "image/png": "[encoded data removed]",
      "text/plain": [
       "<Figure size 432x288 with 2 Axes>"
      ]
     },
     "metadata": {
      "needs_background": "light"
     },
     "output_type": "display_data"
    }
   ],
   "source": [
    "#subplots - structure \n",
    "\n",
    "fig, (ax1, ax2) = plt.subplots(nrows=1, ncols=2,sharey='row') \n",
    "\n",
    "fig.suptitle('Uniform Distribution Histogram (Bin size 10)', fontsize=16)\n",
    "ax1.hist(set1, 10, facecolor='blue') \n",
    "ax1.set_xlim(10, 15)\n",
    "ax1.set_ylim(0, 120)\n",
    "ax1.set_title(\"U[10,15]\")\n",
    "ax1.set_xlabel('X~U[10,15]') # x label\n",
    "ax1.set_ylabel('Count') # y label\n",
    "\n",
    "ax2.hist(set2, 10, facecolor='blue') \n",
    "ax2.set_xlim(10, 60)\n",
    "ax2.set_ylim(0, 120)\n",
    "ax2.set_title(\"U[10,60]\")\n",
    "ax2.set_xlabel('X~U[10,60]') # x label\n",
    "ax2.set_ylabel('Count') # y label"
   ]
  },
  {
   "cell_type": "markdown",
   "metadata": {},
   "source": [
    "How are the two distributions different?"
   ]
  },
  {
   "cell_type": "code",
   "execution_count": null,
   "metadata": {},
   "outputs": [],
   "source": [
    "# your answer here:\n",
    "#more or less both histogram shape are uniform. Maybe second one looks a bit more random. "
   ]
  },
  {
   "cell_type": "markdown",
   "metadata": {},
   "source": [
    "## Normal Distribution\n",
    "\n",
    "1. In the same way in the Uniform Distribution challenge, write a function that generates normally distributed random numbers.\n",
    "1. Generate 1,000 normally distributed numbers with the average of 10 and standard deviation of 1\n",
    "1. Generate 1,000 normally distributed numbers with the average of 10 and standard deviation of 50\n",
    "2. Plot the distributions of the data generated.\n",
    "\n",
    "Expected output:\n",
    "\n",
    "![normal distribution](nd.png)"
   ]
  },
  {
   "cell_type": "code",
   "execution_count": 51,
   "metadata": {},
   "outputs": [
    {
     "data": {
      "text/plain": [
       "<BarContainer object of 1000 artists>"
      ]
     },
     "execution_count": 51,
     "metadata": {},
     "output_type": "execute_result"
    },
    {
     "data": {
      "image/png": "[encoded data removed]",
      "text/plain": [
       "<Figure size 432x288 with 1 Axes>"
      ]
     },
     "metadata": {
      "needs_background": "light"
     },
     "output_type": "display_data"
    }
   ],
   "source": [
    "# your code here\n",
    "mu1=10\n",
    "sigma1=1\n",
    "normal_dist = norm(mu1, sigma1) \n",
    "# plotting\n",
    "x1 = np.linspace(0,20,1000)\n",
    "y1 = norm.pdf(x1) #-> ERROR HERE BECAUSE THIS IS NORMALLY DISTRIBUTED WITH MU=0, BUT THAT IS NOT WHAT I AM LOOKING FOR\n",
    "plt.bar(x1,y1)\n",
    "#plt.show()\n",
    "\n",
    "#This are normally distributed with mu=0, mine should be mu=10\n"
   ]
  },
  {
   "cell_type": "code",
   "execution_count": 58,
   "metadata": {},
   "outputs": [
    {
     "data": {
      "image/png": "[encoded data removed]",
      "text/plain": [
       "<Figure size 432x288 with 1 Axes>"
      ]
     },
     "metadata": {
      "needs_background": "light"
     },
     "output_type": "display_data"
    }
   ],
   "source": [
    "\"\"\"\n",
    "Syntax: numpy.random.normal(loc = 0.0, scale = 1.0, size = None) \n",
    "\n",
    "Parameters:\n",
    "\n",
    "loc: Mean of distribution\n",
    "\n",
    "scale: Standard derivation \n",
    "\n",
    "size: Resultant shape.\n",
    "\"\"\"\n",
    "# your code here\n",
    "mu1=10\n",
    "sigma1=1\n",
    "#normal_dist = norm(mu1, sigma1) \n",
    "# plotting\n",
    "x1 = np.random.normal(loc = mu1, scale = sigma1, size = 1000) \n",
    "y1 = norm.pdf(x1, loc = mu1, scale = sigma1)\n",
    "plt.bar(x1,y1)\n",
    "plt.show()\n",
    "\n",
    "#WHERE IS MY ERROR??"
   ]
  },
  {
   "cell_type": "code",
   "execution_count": 66,
   "metadata": {},
   "outputs": [
    {
     "data": {
      "text/plain": [
       "Text(0, 0.5, 'Prob')"
      ]
     },
     "execution_count": 66,
     "metadata": {},
     "output_type": "execute_result"
    },
    {
     "data": {
      "image/png": "[encoded data removed]",
      "text/plain": [
       "<Figure size 432x288 with 2 Axes>"
      ]
     },
     "metadata": {
      "needs_background": "light"
     },
     "output_type": "display_data"
    }
   ],
   "source": [
    "#subplots - structure \n",
    "\n",
    "fig, (ax1, ax2) = plt.subplots(nrows=1, ncols=2) #,sharey='row'\n",
    "\n",
    "fig.suptitle('Normal Distribution Probabilities', fontsize=16)\n",
    "\n",
    "\n",
    "#PLOT 1:\n",
    "mu1=10\n",
    "sigma1=1\n",
    "x1 = np.random.normal(loc = mu1, scale = sigma1, size = 1000) \n",
    "y1 = norm.pdf(x1, loc = mu1, scale = sigma1)\n",
    "ax1.bar(x1,y1)\n",
    "#ax1.set_xlim(10, 15)\n",
    "#ax1.set_ylim(0, 120)\n",
    "ax1.set_title(\"N[10,1]\")\n",
    "ax1.set_xlabel('X~N[10,1]') # x label\n",
    "ax1.set_ylabel('Prob') # y label\n",
    "\n",
    "#PLOT 1:\n",
    "mu2=10\n",
    "sigma2=50\n",
    "x2 = np.random.normal(loc = mu2, scale = sigma2, size = 1000) \n",
    "y2 = norm.pdf(x2, loc = mu2, scale = sigma2)\n",
    "ax2.bar(x2,y2)\n",
    "\n",
    "#ax2.set_xlim(10, 60)\n",
    "#ax2.set_ylim(0, 120)\n",
    "ax2.set_title(\"N[10,50]\")\n",
    "ax2.set_xlabel('X~N[10,50]') # x label\n",
    "ax2.set_ylabel('Prob') # y label"
   ]
  },
  {
   "cell_type": "code",
   "execution_count": 71,
   "metadata": {},
   "outputs": [
    {
     "data": {
      "text/plain": [
       "Text(0, 0.5, 'Count')"
      ]
     },
     "execution_count": 71,
     "metadata": {},
     "output_type": "execute_result"
    },
    {
     "data": {
      "image/png": "[encoded data removed]",
      "text/plain": [
       "<Figure size 432x288 with 2 Axes>"
      ]
     },
     "metadata": {
      "needs_background": "light"
     },
     "output_type": "display_data"
    }
   ],
   "source": [
    "#subplots - THIS IS THE HISTOGRAM, WHAT WAS REQUESTED: \n",
    "\n",
    "fig, (ax1, ax2) = plt.subplots(nrows=1, ncols=2,sharey='row') \n",
    "\n",
    "fig.suptitle('Normal Distribution Histogram', fontsize=16)\n",
    "\n",
    "\n",
    "#PLOT 1:\n",
    "mu1=10\n",
    "sigma1=1\n",
    "x1 = np.random.normal(loc = mu1, scale = sigma1, size = 1000) \n",
    "ax1.hist(x1)\n",
    "#ax1.set_xlim(-200,200)\n",
    "ax1.set_title(\"N[10,1]\")\n",
    "ax1.set_xlabel('X~N[10,1]') # x label\n",
    "ax1.set_ylabel('Count') # y label\n",
    "\n",
    "#PLOT 1:\n",
    "mu2=10\n",
    "sigma2=50\n",
    "x2 = np.random.normal(loc = mu2, scale = sigma2, size = 1000) \n",
    "ax2.hist(x2)\n",
    "ax2.set_title(\"N[10,50]\")\n",
    "ax2.set_xlabel('X~N[10,50]') # x label\n",
    "ax2.set_ylabel('Count') # y label"
   ]
  },
  {
   "cell_type": "markdown",
   "metadata": {},
   "source": [
    "How are the two distributions different?"
   ]
  },
  {
   "cell_type": "code",
   "execution_count": 69,
   "metadata": {},
   "outputs": [
    {
     "ename": "SyntaxError",
     "evalue": "invalid syntax (Temp/ipykernel_28068/3893270719.py, line 2)",
     "output_type": "error",
     "traceback": [
      "\u001b[1;36m  File \u001b[1;32m\"C:\\Users\\patri\\AppData\\Local\\Temp/ipykernel_28068/3893270719.py\"\u001b[1;36m, line \u001b[1;32m2\u001b[0m\n\u001b[1;33m    As we can see they are normally distributed data, first one with mu=10 and the second mu=50.\u001b[0m\n\u001b[1;37m       ^\u001b[0m\n\u001b[1;31mSyntaxError\u001b[0m\u001b[1;31m:\u001b[0m invalid syntax\n"
     ]
    }
   ],
   "source": [
    "# your answer here:\n",
    "\n",
    "\"\"\"\n",
    "As we can see they are normally distributed data, first one with mu=10 and the second mu=50. \n",
    "We can see perfectly the gauss bell shape.\n",
    "In the first sigma =1 and in the second sigma=50 (std) which indicates how far the data is from the mean. First is very close\n",
    "to the mean (that is, more spiky), the second not that close (and therefore less spiky)\n",
    "\"\"\"\n"
   ]
  },
  {
   "cell_type": "markdown",
   "metadata": {},
   "source": [
    "## Normal Distribution of Real Data\n",
    "\n",
    "In this challenge we are going to take a look the real data. We will use vehicles.csv file for this exercise"
   ]
  },
  {
   "cell_type": "markdown",
   "metadata": {},
   "source": [
    "First import vehicles.csv.\n",
    "Then plot the histograms for the following variables:\n",
    "\n",
    "1. Fuel Barrels/Year"
   ]
  },
  {
   "cell_type": "code",
   "execution_count": 67,
   "metadata": {},
   "outputs": [
    {
     "data": {
      "text/html": [
       "<div>\n",
       "<style scoped>\n",
       "    .dataframe tbody tr th:only-of-type {\n",
       "        vertical-align: middle;\n",
       "    }\n",
       "\n",
       "    .dataframe tbody tr th {\n",
       "        vertical-align: top;\n",
       "    }\n",
       "\n",
       "    .dataframe thead th {\n",
       "        text-align: right;\n",
       "    }\n",
       "</style>\n",
       "<table border=\"1\" class=\"dataframe\">\n",
       "  <thead>\n",
       "    <tr style=\"text-align: right;\">\n",
       "      <th></th>\n",
       "      <th>Make</th>\n",
       "      <th>Model</th>\n",
       "      <th>Year</th>\n",
       "      <th>Engine Displacement</th>\n",
       "      <th>Cylinders</th>\n",
       "      <th>Transmission</th>\n",
       "      <th>Drivetrain</th>\n",
       "      <th>Vehicle Class</th>\n",
       "      <th>Fuel Type</th>\n",
       "      <th>Fuel Barrels/Year</th>\n",
       "      <th>City MPG</th>\n",
       "      <th>Highway MPG</th>\n",
       "      <th>Combined MPG</th>\n",
       "      <th>CO2 Emission Grams/Mile</th>\n",
       "      <th>Fuel Cost/Year</th>\n",
       "    </tr>\n",
       "  </thead>\n",
       "  <tbody>\n",
       "    <tr>\n",
       "      <th>0</th>\n",
       "      <td>AM General</td>\n",
       "      <td>DJ Po Vehicle 2WD</td>\n",
       "      <td>1984</td>\n",
       "      <td>2.5</td>\n",
       "      <td>4.0</td>\n",
       "      <td>Automatic 3-spd</td>\n",
       "      <td>2-Wheel Drive</td>\n",
       "      <td>Special Purpose Vehicle 2WD</td>\n",
       "      <td>Regular</td>\n",
       "      <td>19.388824</td>\n",
       "      <td>18</td>\n",
       "      <td>17</td>\n",
       "      <td>17</td>\n",
       "      <td>522.764706</td>\n",
       "      <td>1950</td>\n",
       "    </tr>\n",
       "    <tr>\n",
       "      <th>1</th>\n",
       "      <td>AM General</td>\n",
       "      <td>FJ8c Post Office</td>\n",
       "      <td>1984</td>\n",
       "      <td>4.2</td>\n",
       "      <td>6.0</td>\n",
       "      <td>Automatic 3-spd</td>\n",
       "      <td>2-Wheel Drive</td>\n",
       "      <td>Special Purpose Vehicle 2WD</td>\n",
       "      <td>Regular</td>\n",
       "      <td>25.354615</td>\n",
       "      <td>13</td>\n",
       "      <td>13</td>\n",
       "      <td>13</td>\n",
       "      <td>683.615385</td>\n",
       "      <td>2550</td>\n",
       "    </tr>\n",
       "    <tr>\n",
       "      <th>2</th>\n",
       "      <td>AM General</td>\n",
       "      <td>Post Office DJ5 2WD</td>\n",
       "      <td>1985</td>\n",
       "      <td>2.5</td>\n",
       "      <td>4.0</td>\n",
       "      <td>Automatic 3-spd</td>\n",
       "      <td>Rear-Wheel Drive</td>\n",
       "      <td>Special Purpose Vehicle 2WD</td>\n",
       "      <td>Regular</td>\n",
       "      <td>20.600625</td>\n",
       "      <td>16</td>\n",
       "      <td>17</td>\n",
       "      <td>16</td>\n",
       "      <td>555.437500</td>\n",
       "      <td>2100</td>\n",
       "    </tr>\n",
       "    <tr>\n",
       "      <th>3</th>\n",
       "      <td>AM General</td>\n",
       "      <td>Post Office DJ8 2WD</td>\n",
       "      <td>1985</td>\n",
       "      <td>4.2</td>\n",
       "      <td>6.0</td>\n",
       "      <td>Automatic 3-spd</td>\n",
       "      <td>Rear-Wheel Drive</td>\n",
       "      <td>Special Purpose Vehicle 2WD</td>\n",
       "      <td>Regular</td>\n",
       "      <td>25.354615</td>\n",
       "      <td>13</td>\n",
       "      <td>13</td>\n",
       "      <td>13</td>\n",
       "      <td>683.615385</td>\n",
       "      <td>2550</td>\n",
       "    </tr>\n",
       "    <tr>\n",
       "      <th>4</th>\n",
       "      <td>ASC Incorporated</td>\n",
       "      <td>GNX</td>\n",
       "      <td>1987</td>\n",
       "      <td>3.8</td>\n",
       "      <td>6.0</td>\n",
       "      <td>Automatic 4-spd</td>\n",
       "      <td>Rear-Wheel Drive</td>\n",
       "      <td>Midsize Cars</td>\n",
       "      <td>Premium</td>\n",
       "      <td>20.600625</td>\n",
       "      <td>14</td>\n",
       "      <td>21</td>\n",
       "      <td>16</td>\n",
       "      <td>555.437500</td>\n",
       "      <td>2550</td>\n",
       "    </tr>\n",
       "  </tbody>\n",
       "</table>\n",
       "</div>"
      ],
      "text/plain": [
       "               Make                Model  Year  Engine Displacement  \\\n",
       "0        AM General    DJ Po Vehicle 2WD  1984                  2.5   \n",
       "1        AM General     FJ8c Post Office  1984                  4.2   \n",
       "2        AM General  Post Office DJ5 2WD  1985                  2.5   \n",
       "3        AM General  Post Office DJ8 2WD  1985                  4.2   \n",
       "4  ASC Incorporated                  GNX  1987                  3.8   \n",
       "\n",
       "   Cylinders     Transmission        Drivetrain                Vehicle Class  \\\n",
       "0        4.0  Automatic 3-spd     2-Wheel Drive  Special Purpose Vehicle 2WD   \n",
       "1        6.0  Automatic 3-spd     2-Wheel Drive  Special Purpose Vehicle 2WD   \n",
       "2        4.0  Automatic 3-spd  Rear-Wheel Drive  Special Purpose Vehicle 2WD   \n",
       "3        6.0  Automatic 3-spd  Rear-Wheel Drive  Special Purpose Vehicle 2WD   \n",
       "4        6.0  Automatic 4-spd  Rear-Wheel Drive                 Midsize Cars   \n",
       "\n",
       "  Fuel Type  Fuel Barrels/Year  City MPG  Highway MPG  Combined MPG  \\\n",
       "0   Regular          19.388824        18           17            17   \n",
       "1   Regular          25.354615        13           13            13   \n",
       "2   Regular          20.600625        16           17            16   \n",
       "3   Regular          25.354615        13           13            13   \n",
       "4   Premium          20.600625        14           21            16   \n",
       "\n",
       "   CO2 Emission Grams/Mile  Fuel Cost/Year  \n",
       "0               522.764706            1950  \n",
       "1               683.615385            2550  \n",
       "2               555.437500            2100  \n",
       "3               683.615385            2550  \n",
       "4               555.437500            2550  "
      ]
     },
     "execution_count": 67,
     "metadata": {},
     "output_type": "execute_result"
    }
   ],
   "source": [
    "# your code here\n",
    "data = pd.read_csv('vehicles.csv')\n",
    "data.head()"
   ]
  },
  {
   "cell_type": "code",
   "execution_count": 72,
   "metadata": {},
   "outputs": [
    {
     "data": {
      "text/plain": [
       "(array([8.1000e+01, 3.7400e+02, 6.7650e+03, 1.7039e+04, 8.9660e+03,\n",
       "        2.0960e+03, 5.6900e+02, 3.6000e+01, 2.1000e+01, 5.0000e+00]),\n",
       " array([ 0.06      ,  4.76271429,  9.46542857, 14.16814286, 18.87085714,\n",
       "        23.57357143, 28.27628571, 32.979     , 37.68171429, 42.38442857,\n",
       "        47.08714286]),\n",
       " <BarContainer object of 10 artists>)"
      ]
     },
     "execution_count": 72,
     "metadata": {},
     "output_type": "execute_result"
    },
    {
     "data": {
      "image/png": "[encoded data removed]",
      "text/plain": [
       "<Figure size 432x288 with 1 Axes>"
      ]
     },
     "metadata": {
      "needs_background": "light"
     },
     "output_type": "display_data"
    }
   ],
   "source": [
    "plt.hist(data['Fuel Barrels/Year'])"
   ]
  },
  {
   "cell_type": "markdown",
   "metadata": {},
   "source": [
    "2. CO2 Emission Grams/Mile "
   ]
  },
  {
   "cell_type": "code",
   "execution_count": 73,
   "metadata": {},
   "outputs": [
    {
     "data": {
      "text/plain": [
       "(array([3.4000e+01, 8.3200e+02, 1.0205e+04, 1.5411e+04, 6.8250e+03,\n",
       "        2.0100e+03, 5.7300e+02, 3.6000e+01, 2.1000e+01, 5.0000e+00]),\n",
       " array([  37.        ,  160.25714286,  283.51428571,  406.77142857,\n",
       "         530.02857143,  653.28571429,  776.54285714,  899.8       ,\n",
       "        1023.05714286, 1146.31428571, 1269.57142857]),\n",
       " <BarContainer object of 10 artists>)"
      ]
     },
     "execution_count": 73,
     "metadata": {},
     "output_type": "execute_result"
    },
    {
     "data": {
      "image/png": "[encoded data removed]",
      "text/plain": [
       "<Figure size 432x288 with 1 Axes>"
      ]
     },
     "metadata": {
      "needs_background": "light"
     },
     "output_type": "display_data"
    }
   ],
   "source": [
    "# your code here\n",
    "plt.hist(data['CO2 Emission Grams/Mile'])"
   ]
  },
  {
   "cell_type": "markdown",
   "metadata": {},
   "source": [
    "3. Combined MPG"
   ]
  },
  {
   "cell_type": "code",
   "execution_count": 74,
   "metadata": {},
   "outputs": [
    {
     "data": {
      "text/plain": [
       "(array([6.3800e+02, 8.4990e+03, 1.5512e+04, 7.9320e+03, 2.4160e+03,\n",
       "        6.3600e+02, 2.1000e+02, 6.5000e+01, 3.3000e+01, 1.1000e+01]),\n",
       " array([ 7. , 11.9, 16.8, 21.7, 26.6, 31.5, 36.4, 41.3, 46.2, 51.1, 56. ]),\n",
       " <BarContainer object of 10 artists>)"
      ]
     },
     "execution_count": 74,
     "metadata": {},
     "output_type": "execute_result"
    },
    {
     "data": {
      "image/png": "[encoded data removed]",
      "text/plain": [
       "<Figure size 432x288 with 1 Axes>"
      ]
     },
     "metadata": {
      "needs_background": "light"
     },
     "output_type": "display_data"
    }
   ],
   "source": [
    "# your code here\n",
    "plt.hist(data['Combined MPG'])"
   ]
  },
  {
   "cell_type": "markdown",
   "metadata": {},
   "source": [
    "Which one(s) of the variables are nearly normally distributed? How do you know?"
   ]
  },
  {
   "cell_type": "code",
   "execution_count": null,
   "metadata": {},
   "outputs": [],
   "source": [
    "# you answer here:\n",
    "# Combined MPG is the closest to be normally distributed with mu=20 aprox. In this histogram we can appreciate the\n",
    "# simetric gauss bell\n",
    "\n",
    "#CO2 Emission Grams/Mile histogram is positive skewed.\n",
    "\n",
    "#Although less that 'Combined MPG' histogram, but this could also follow a normal distribution with mu=17-18 aprox.\n"
   ]
  },
  {
   "cell_type": "markdown",
   "metadata": {},
   "source": [
    "## Exponential Distribution"
   ]
  },
  {
   "cell_type": "markdown",
   "metadata": {},
   "source": [
    "1. Using `numpy.random.exponential`, create a function that returns a list of numbers exponentially distributed with the mean of 10. \n",
    "\n",
    "1. Use the function to generate two number sequences with a mean of 1 and 100 and a size of 1000.\n",
    "\n",
    "1. Plot the distributions as histograms with the number of bins as 100.\n",
    "\n",
    "Your output should look like below:\n",
    "\n",
    "![exponential distribution](ed.png)"
   ]
  },
  {
   "cell_type": "code",
   "execution_count": 78,
   "metadata": {},
   "outputs": [
    {
     "data": {
      "text/plain": [
       "array([5.15871630e+00, 1.29031562e+00, 1.78264148e+01, 2.31862843e+01,\n",
       "       1.30881490e+00, 1.48008013e+01, 3.59166546e+00, 6.42487584e+00,\n",
       "       1.42965286e+01, 1.27519576e+01, 2.10732088e+01, 5.14987699e+00,\n",
       "       1.36564782e+01, 1.38532399e+01, 1.02457671e+01, 4.59500842e+00,\n",
       "       8.72668603e+00, 4.80828603e+00, 2.25026929e+00, 7.57314339e+00,\n",
       "       1.93528554e+01, 1.21644782e+01, 7.78930172e+00, 4.13545349e+00,\n",
       "       2.19490217e+00, 4.57964221e+00, 7.72645984e-01, 1.52959681e+01,\n",
       "       1.35966486e+01, 4.98226298e-02, 1.21622434e+00, 5.54104772e+00,\n",
       "       8.43490954e+00, 5.47473986e-01, 1.47138082e+00, 6.91045451e+00,\n",
       "       8.36219268e+00, 1.75800256e+01, 2.56044954e+00, 1.85941997e+01,\n",
       "       3.29091348e+00, 3.38088633e+00, 1.19242697e+01, 5.56989720e+00,\n",
       "       4.29171779e+00, 2.29945793e+00, 9.28944813e+00, 5.89869193e+00,\n",
       "       1.04963117e+00, 6.71999600e+00, 4.51612472e-01, 3.09254604e+01,\n",
       "       1.16523195e+01, 1.85023636e+01, 7.94891488e-02, 2.20599586e+01,\n",
       "       9.94313175e+00, 3.39936991e+00, 1.45515952e+01, 1.12883081e+01,\n",
       "       1.37338854e+01, 7.78503474e+00, 5.94903388e+00, 5.85467455e-01,\n",
       "       1.43053897e+01, 1.96104061e+01, 2.54868019e+01, 6.38574297e+00,\n",
       "       3.74892932e+00, 9.30924687e+00, 6.85494335e-01, 2.01932485e-01,\n",
       "       9.41452011e+00, 1.60346091e+00, 6.57482071e+00, 1.90585359e+00,\n",
       "       1.26170324e+01, 1.16080771e+00, 5.83362940e+00, 9.79884033e+00,\n",
       "       1.02204735e+01, 6.22618356e+00, 1.08248467e+01, 1.54903949e+00,\n",
       "       1.12174111e+01, 2.36272313e+00, 2.04970736e+00, 2.93541298e+01,\n",
       "       2.37182845e+00, 1.33360968e+01, 9.11973666e+00, 1.78611866e+00,\n",
       "       1.02165035e+01, 9.42631292e+00, 1.74954673e+00, 2.91546898e+00,\n",
       "       2.10306594e+01, 1.36189984e+00, 5.39938377e+00, 2.45837175e+00,\n",
       "       1.14576392e+01, 2.07521748e+00, 1.60176564e+00, 1.21941203e+01,\n",
       "       1.40334974e+00, 1.39086016e+01, 1.99290287e+01, 6.58308340e-01,\n",
       "       5.16642594e+00, 1.45101576e+01, 8.27069731e+00, 3.12225613e+00,\n",
       "       2.26448391e+01, 1.96374819e+01, 3.04157089e+01, 8.09832768e+00,\n",
       "       3.04248965e+01, 4.57337287e+00, 1.25499381e+01, 7.36883741e+00,\n",
       "       1.48662582e+01, 2.27843807e+01, 1.11600109e+01, 9.75447232e-01,\n",
       "       1.18559300e+00, 1.34631003e+00, 6.38384543e-01, 1.99299394e+00,\n",
       "       6.57343214e+00, 1.21696401e+01, 2.55128909e+00, 2.61169153e+00,\n",
       "       7.73258359e-01, 5.02305510e+00, 6.05146006e+00, 9.98979171e+00,\n",
       "       4.07527183e+00, 1.01173614e+01, 5.70121604e+00, 5.07259999e+00,\n",
       "       5.32816267e+00, 1.85250384e+01, 3.29968744e-01, 3.36111471e-01,\n",
       "       4.87378786e-01, 9.73615986e+00, 1.31068661e+01, 2.62786299e+00,\n",
       "       3.74248903e+00, 9.78274865e+00, 2.35225256e+00, 5.42258951e-01,\n",
       "       2.88450660e+01, 4.57479566e+00, 6.69154387e+00, 6.74053007e+00,\n",
       "       1.59859517e+01, 2.11098253e+01, 3.22375196e+00, 2.98610654e+01,\n",
       "       4.08038698e+00, 2.07432886e+01, 1.50122591e+00, 4.59072724e+00,\n",
       "       6.76914349e+00, 1.59270101e+00, 1.72917663e+01, 2.29964930e+01,\n",
       "       1.06076922e+01, 2.26604082e+00, 3.42729239e+00, 2.36071113e+00,\n",
       "       9.43422494e+00, 2.77540873e+00, 2.49414695e+00, 1.16604939e+01,\n",
       "       7.20765458e+00, 8.72892328e+00, 4.12104307e+00, 1.48118332e+01,\n",
       "       1.49833110e+01, 2.65063167e+00, 2.73134931e+00, 1.04384636e+00,\n",
       "       1.18444413e+01, 3.77514940e-01, 8.73376500e-01, 1.00640842e+01,\n",
       "       1.40242681e-01, 1.14414126e+01, 1.10104720e+01, 2.78260451e-01,\n",
       "       5.76241277e-01, 9.29229589e+00, 3.57517923e+01, 2.61979345e+01,\n",
       "       8.96282998e+00, 1.77456836e+01, 3.59389973e+00, 7.98976012e+00,\n",
       "       2.18307766e+00, 8.34763716e+00, 9.14423829e+00, 1.44977772e-01,\n",
       "       1.94908824e+00, 2.34170091e+00, 1.30041740e+01, 8.06645768e+00,\n",
       "       1.71912602e+01, 3.13421287e+01, 8.06836504e+00, 5.89399761e+00,\n",
       "       1.20477499e-01, 2.07396718e-01, 4.31695981e+01, 2.97538574e-01,\n",
       "       4.46465495e+00, 5.63606472e+00, 7.67631865e+00, 1.02046902e+01,\n",
       "       2.80409337e+01, 1.14763106e+01, 3.96165676e+00, 3.10767605e+00,\n",
       "       6.09095005e+01, 8.41525235e+00, 7.82881273e+00, 1.02310195e+01,\n",
       "       3.53637657e+00, 4.59667798e+00, 6.31121096e+00, 1.49794559e+01,\n",
       "       6.47729701e+00, 5.89672436e+00, 5.47494634e+00, 2.83245343e+01,\n",
       "       4.37409002e+00, 6.55473228e-01, 1.44226592e+01, 1.34179611e+01,\n",
       "       4.93601427e-01, 2.33879525e+00, 2.12655822e+01, 8.12091336e+00,\n",
       "       1.14468166e+00, 3.93770805e+00, 3.99536860e+00, 6.22825731e+00,\n",
       "       2.66399016e+01, 1.17572723e-03, 1.60093928e-01, 6.52849073e+00,\n",
       "       4.52663843e+00, 1.51631035e+01, 9.85698985e+00, 5.08295714e+00,\n",
       "       3.00618050e+01, 1.88248319e+01, 1.56453066e+00, 1.99532013e+01,\n",
       "       1.23471536e+01, 8.02747622e+00, 1.68603061e+01, 6.11375304e+00,\n",
       "       4.31911915e+00, 1.15330684e+01, 3.02535909e+01, 4.63737503e+00,\n",
       "       4.96896986e+00, 5.28976068e+00, 1.38402712e+01, 1.73232557e+00,\n",
       "       9.82167586e+00, 5.49492454e+00, 5.80899046e+00, 2.20553397e+00,\n",
       "       4.08249498e+01, 2.67097295e+01, 4.01296790e+01, 9.79379513e+00,\n",
       "       8.31630145e+00, 3.31258165e-01, 9.20116408e+00, 1.39842046e+00,\n",
       "       3.81223378e+00, 6.13282597e+00, 3.35653206e+00, 8.18988846e+00,\n",
       "       4.49115199e+00, 4.25380661e+00, 1.39949912e+00, 1.32816821e+01,\n",
       "       3.55840602e+01, 1.36054195e+01, 2.03652210e+00, 2.83918623e+00,\n",
       "       7.94251454e+00, 1.28543206e-01, 1.67560577e+01, 7.04613361e+00,\n",
       "       4.71034985e+00, 5.21322478e+00, 8.10436538e+00, 3.73225919e-01,\n",
       "       3.93903561e+00, 6.74393520e+00, 1.40835040e+00, 8.33080017e+00,\n",
       "       2.00214193e+01, 7.67516292e+00, 4.72135422e+00, 4.04387345e+00,\n",
       "       9.87833706e+00, 5.87835174e+00, 1.56641382e+01, 1.86650890e+01,\n",
       "       2.19814196e+01, 1.32444818e+01, 1.49302522e+00, 1.09952335e+01,\n",
       "       1.30969371e+00, 9.11336643e+00, 2.34568702e+00, 3.48221023e+00,\n",
       "       1.02708130e+01, 1.10613954e+01, 1.68575232e+01, 2.51955367e+00,\n",
       "       6.27021659e+00, 2.07949953e+00, 3.65845389e-01, 1.45833703e+01,\n",
       "       3.87854190e+00, 9.88648591e+00, 7.74534003e+00, 2.59783221e-01,\n",
       "       1.02214259e+00, 1.96594704e+01, 3.23043491e+01, 7.41615593e-01,\n",
       "       2.45882249e+01, 4.14416840e+01, 1.12283356e+01, 9.43859122e+00,\n",
       "       1.20575811e+00, 2.22532779e+00, 6.49271918e-01, 4.93608047e+00,\n",
       "       1.26501154e+01, 5.51988082e+00, 3.52219457e+00, 8.31674659e+00,\n",
       "       3.24974735e+00, 1.34021550e+01, 3.78635618e+00, 1.22223340e+01,\n",
       "       1.72702899e+01, 1.22787694e+01, 5.85841187e-01, 6.04053691e-01,\n",
       "       1.00896369e+00, 5.02277337e+01, 7.23077901e+00, 5.52220940e+00,\n",
       "       1.44366372e+01, 7.94824042e+00, 4.21936457e-01, 1.23342774e+00,\n",
       "       2.20915896e+01, 1.18035681e+01, 6.52787241e+00, 1.26429104e+01,\n",
       "       1.18615001e+01, 7.05972879e+00, 2.06573649e+00, 7.15028942e-01,\n",
       "       3.28035814e-01, 2.62513547e+01, 3.32852328e+00, 2.90965241e+00,\n",
       "       3.02313778e-01, 1.03833317e+01, 1.35708029e+01, 9.99115096e+00,\n",
       "       3.81199018e+00, 1.02687884e+01, 6.60634782e+00, 6.23646453e+00,\n",
       "       4.67276805e+01, 1.39422817e+01, 2.31567155e+01, 3.46596996e+00,\n",
       "       5.57128895e+00, 1.86967851e+00, 2.80285445e+00, 6.81715839e+00,\n",
       "       1.05127421e+00, 3.37683394e+01, 2.14733322e+00, 1.77391297e+00,\n",
       "       3.02055262e+00, 3.55832843e+00, 1.71328161e+01, 1.37013683e+01,\n",
       "       7.96568008e+00, 1.28856390e+01, 1.59000930e+01, 3.13231676e+01,\n",
       "       9.21712635e+00, 2.33300882e+01, 2.35738783e+00, 1.08767718e+01,\n",
       "       3.65094896e+00, 2.02704593e+01, 2.01591843e+00, 3.96876013e+01,\n",
       "       1.01787882e+00, 1.21753581e+01, 5.21867419e+00, 5.32088519e+00,\n",
       "       3.17772330e+01, 1.51211543e+01, 1.30924799e+00, 3.74125322e-01,\n",
       "       2.23870920e+01, 3.19145297e+00, 1.08244903e+00, 4.23830616e+00,\n",
       "       3.22789530e+00, 3.40115829e+01, 6.11798751e+00, 2.39603227e+00,\n",
       "       4.66387037e+00, 5.78133124e+00, 4.10216791e+00, 6.44430671e+00,\n",
       "       6.83884525e+00, 4.92110934e+00, 1.27124499e+00, 5.53792510e+00,\n",
       "       4.67374468e+00, 2.13627855e+01, 6.21392338e+00, 5.96697446e+00,\n",
       "       2.19354006e+00, 1.46003194e+00, 1.25954279e+00, 6.80431287e+00,\n",
       "       1.86968177e+01, 4.37193070e+01, 2.68338169e+00, 1.74037919e+00,\n",
       "       5.87690575e+00, 1.97639362e+01, 1.32571400e+01, 1.11816760e+01,\n",
       "       2.97798608e+00, 1.51713797e+00, 7.56102084e+00, 8.70018255e+00,\n",
       "       1.31110200e+01, 1.22466224e+01, 8.74121486e+00, 1.27999306e+00,\n",
       "       1.92310872e+01, 3.37063714e+00, 1.14341326e+01, 4.84581058e+00,\n",
       "       9.98570123e+00, 8.13732127e+00, 1.17560053e+00, 2.07175455e+01,\n",
       "       1.64040296e-01, 2.85491082e+01, 8.71827362e+00, 2.14362253e+01,\n",
       "       2.47577526e+01, 5.24516262e+00, 6.67513955e-01, 6.81006600e+00,\n",
       "       4.64579500e+00, 7.06508076e+00, 2.87007708e+01, 1.87337752e+00,\n",
       "       5.95354346e+00, 9.33117027e+00, 2.34523560e+01, 1.64503897e+00,\n",
       "       2.14264887e+01, 4.48656026e-01, 1.49004715e+01, 2.98330503e+00,\n",
       "       1.50415164e+01, 2.27415862e-01, 6.67369015e-01, 7.10507831e+00,\n",
       "       1.55154135e+00, 8.07689293e+00, 3.92200068e+01, 9.06524021e-01,\n",
       "       1.60183255e+01, 1.75231258e+01, 1.40265312e+00, 1.05564317e+01,\n",
       "       3.87605882e+00, 6.39351937e+00, 3.47741963e+01, 1.69334870e+01,\n",
       "       1.69258223e+01, 4.64456741e+00, 8.58006688e+00, 1.53035711e+01,\n",
       "       4.42462888e+00, 7.55031211e-01, 1.04706484e+01, 1.28093615e+01,\n",
       "       1.13413703e+01, 3.50509681e+00, 9.09705395e+00, 1.60059232e+01,\n",
       "       1.05212255e+01, 3.26943746e+01, 7.77221563e-01, 7.22620152e-01,\n",
       "       1.49665994e+01, 1.55057600e+01, 4.73286299e-01, 9.07410769e-01,\n",
       "       1.95025571e+00, 6.42767192e+00, 1.75057432e+01, 1.74699050e+01,\n",
       "       1.70445474e+01, 1.93293211e-01, 1.41374382e+00, 1.65007686e+01,\n",
       "       2.14721924e+01, 6.16225324e+00, 9.71215801e+00, 2.21884347e+01,\n",
       "       3.45802588e+01, 1.29740648e+01, 6.70563281e+00, 4.34289377e+00,\n",
       "       3.50780872e+01, 4.29741220e+00, 5.37361568e+00, 5.84026541e+00,\n",
       "       8.62896701e+00, 1.99990205e+01, 1.54093802e+01, 1.72095655e+00,\n",
       "       3.83662994e+01, 9.45846496e-01, 2.45691624e+01, 2.95711500e+00,\n",
       "       9.83309270e+00, 3.51240097e+00, 6.41119454e-01, 4.14119418e+00,\n",
       "       1.68982168e+01, 2.47000343e+00, 4.27708658e+01, 1.98696184e+01,\n",
       "       8.22316006e+00, 6.45791592e+00, 4.02560407e+01, 1.68331723e+01,\n",
       "       4.90896527e+00, 2.03138096e+01, 1.36359849e+01, 2.94453689e+00,\n",
       "       1.21356357e+01, 5.71273029e+01, 2.48270835e+01, 4.40443776e+00,\n",
       "       1.15606614e+01, 1.38305436e+00, 1.98835329e+01, 8.28018239e-01,\n",
       "       2.00478187e+01, 1.71676485e+01, 1.59551697e+01, 1.35351211e+01,\n",
       "       8.83485287e+00, 8.74660102e+00, 1.00200959e+01, 2.07301279e+00,\n",
       "       1.68553973e+01, 3.83052805e-01, 4.29610453e+00, 8.51599373e+00,\n",
       "       6.36995640e+00, 9.73962822e+00, 1.17318946e+01, 1.48187393e+01,\n",
       "       4.96130699e+00, 1.16841654e+01, 1.09018784e+01, 1.32817936e+01,\n",
       "       2.00262385e+00, 5.60405675e+00, 1.13880957e+01, 1.84961253e+01,\n",
       "       4.52195126e+01, 2.31321574e+01, 8.91287173e+00, 6.44381781e+00,\n",
       "       1.87840901e+01, 1.10144516e+00, 1.48398313e+01, 5.61498452e+00,\n",
       "       1.87851861e+01, 2.44184070e-02, 2.41979029e+00, 1.56334574e+00,\n",
       "       1.65368016e+00, 7.80129395e+00, 4.01109589e+00, 7.86286553e+00,\n",
       "       3.44870171e+01, 1.43474396e+01, 4.78820856e+00, 5.90605915e+00,\n",
       "       2.31829352e+01, 1.01216924e+01, 1.64665127e+00, 4.28137268e+00,\n",
       "       9.66995867e+00, 1.27771710e+01, 2.32527542e+00, 1.16857508e+01,\n",
       "       1.10820020e+01, 3.52715128e+00, 9.66134151e+00, 9.61148362e+00,\n",
       "       1.54966883e+01, 7.52204566e+00, 9.09198766e+00, 8.99397336e+00,\n",
       "       3.03468861e+00, 8.44448775e+00, 6.51092816e+00, 3.11250442e+00,\n",
       "       6.62238510e+00, 8.60768341e+00, 2.38874220e+01, 8.41379280e+00,\n",
       "       1.84518212e+00, 2.09888906e+01, 9.72097521e+00, 2.94910702e+00,\n",
       "       6.10692646e+00, 5.79467750e+00, 2.86742000e-01, 6.56117953e+00,\n",
       "       1.98670135e+01, 3.17361232e+00, 8.43515931e+00, 6.70451831e+00,\n",
       "       7.34241037e+00, 5.82297011e+00, 1.21006762e+01, 1.75970625e+01,\n",
       "       1.16551582e+01, 2.74606630e+00, 1.26291220e+01, 8.78737731e+00,\n",
       "       2.01300130e+01, 3.93984024e+00, 1.34491673e+01, 2.49387457e-01,\n",
       "       5.69449368e+00, 1.22413379e+01, 3.19306980e+00, 3.21580304e+00,\n",
       "       2.23007033e+01, 3.09475068e+00, 4.00019328e+00, 1.10003146e+01,\n",
       "       2.35071535e+01, 6.95103544e-01, 2.11687624e+00, 4.12874968e+00,\n",
       "       2.59149255e+00, 9.72096951e-01, 7.17164790e+00, 1.06317278e+01,\n",
       "       1.76070233e+00, 2.09103283e+00, 2.19600750e+01, 1.55132041e+01,\n",
       "       5.43096573e+00, 9.43056980e+00, 4.38498704e+01, 5.97814609e+00,\n",
       "       1.65547654e+00, 6.85328745e+00, 1.91052589e+01, 1.00835400e+01,\n",
       "       9.13715785e+00, 5.04718805e-01, 8.47826508e+00, 4.11499270e+00,\n",
       "       2.52629227e+00, 1.98675313e+01, 7.82680667e+00, 1.53685351e+01,\n",
       "       6.45643343e-01, 1.05553653e+01, 3.27830552e-01, 6.05436000e+00,\n",
       "       7.55821955e+00, 3.29270124e+00, 1.11965346e+01, 2.40714528e+00,\n",
       "       1.57180528e+01, 1.43963352e+01, 2.31662396e+01, 1.51211773e+00,\n",
       "       1.72228864e-01, 8.87562886e-01, 9.60170163e+00, 1.72121299e+01,\n",
       "       2.16058240e+01, 6.32058981e+00, 1.68148051e+01, 4.44457348e-02,\n",
       "       7.93016110e+00, 1.15509719e+01, 1.39695936e+00, 1.22023939e+00,\n",
       "       6.37158900e+00, 4.21389209e-01, 4.07945334e+00, 1.32773727e+01,\n",
       "       6.10210745e+00, 1.23774527e+01, 7.53587582e+00, 1.12714290e+01,\n",
       "       2.35417416e+00, 1.16422236e+00, 5.21617759e+00, 1.09233022e+01,\n",
       "       2.83633463e+01, 6.20900576e+00, 3.99878989e+00, 3.48578108e+01,\n",
       "       7.72403339e+00, 2.42357361e+01, 1.81522010e+00, 2.87623514e+00,\n",
       "       1.52514836e+01, 1.95286950e+01, 2.09570627e+00, 1.50654370e+01,\n",
       "       9.75230251e+00, 3.78046161e+01, 9.90465906e-01, 3.77253113e+00,\n",
       "       4.49329731e+00, 8.28086801e+00, 2.16454038e+00, 8.57545460e-01,\n",
       "       1.16953221e+01, 1.53444198e+01, 1.26186847e+01, 2.74244674e+00,\n",
       "       1.21693610e+01, 6.68075453e+00, 5.29646040e+01, 2.66163703e+01,\n",
       "       5.54769090e+00, 4.26912656e+00, 2.00555718e+01, 5.75622430e+00,\n",
       "       5.57148230e+00, 1.17925520e+00, 1.50130174e-01, 4.35399956e+01,\n",
       "       2.43269693e+00, 1.86285308e+00, 9.93289029e+00, 4.80369400e+01,\n",
       "       1.91315578e+01, 1.05710553e+01, 1.69080767e+01, 6.09831659e-01,\n",
       "       1.29762420e+01, 1.83261488e+01, 6.57053795e-01, 2.69173159e-01,\n",
       "       3.43657548e+00, 6.73852514e+00, 1.74547071e+01, 7.44420135e+00,\n",
       "       1.94342134e+01, 1.56211083e+00, 9.49073543e+00, 6.28304567e+00,\n",
       "       1.48654398e+01, 8.64701271e+00, 1.47016348e+01, 1.81127398e+00,\n",
       "       3.10311358e+01, 2.24399390e+01, 1.79809698e+01, 4.97869422e+01,\n",
       "       3.61659762e+01, 3.19080909e+00, 1.17095847e+01, 1.39922914e+00,\n",
       "       2.93157617e+00, 1.29756118e+00, 7.61938252e+00, 3.81530698e+01,\n",
       "       7.05189865e+00, 1.55285355e+01, 1.32614793e+01, 3.14896936e-01,\n",
       "       9.39746440e+00, 6.28236665e+00, 1.02853969e+01, 7.68370291e+00,\n",
       "       2.89282640e+00, 1.88010503e+01, 5.08924562e+00, 8.09141672e+00,\n",
       "       2.72224742e-01, 6.80301915e+00, 1.38332011e+01, 1.41090574e+01,\n",
       "       1.62127537e+01, 4.46820904e+01, 2.97997711e+01, 4.78844116e-01,\n",
       "       7.13817624e-01, 1.17751909e+01, 9.57075115e+00, 1.52727167e+01,\n",
       "       2.38787711e+00, 1.89109571e+00, 1.09872909e+01, 3.68341248e+00,\n",
       "       5.37471420e+00, 4.53857240e+00, 1.10430124e+01, 4.70017525e+00,\n",
       "       2.54855345e+00, 2.49084327e+00, 1.84738515e+00, 5.03764162e+00,\n",
       "       5.41386752e+00, 2.93846711e+00, 6.08904887e+00, 1.91448766e+00,\n",
       "       2.00335204e+00, 8.35278078e-01, 1.04464344e+00, 2.56250515e+00,\n",
       "       2.35730585e+00, 1.67508577e+01, 1.54246040e+00, 8.52640507e+00,\n",
       "       5.21040153e-01, 2.61591592e+00, 5.27463036e+00, 9.28227335e+00,\n",
       "       4.07883769e+00, 4.99886971e+00, 7.72051203e+00, 8.76893804e+00,\n",
       "       1.99323973e+01, 4.08401597e+00, 2.34982575e+00, 6.41992153e+00,\n",
       "       4.30299961e+00, 3.51817687e-01, 7.06442114e+00, 5.87881957e+00,\n",
       "       6.32229386e+00, 1.88748309e+01, 1.05088447e+01, 5.01299595e+00,\n",
       "       2.76876777e-02, 1.16593270e+01, 1.12917938e+00, 1.74944662e+00,\n",
       "       2.87777836e+00, 2.11815624e+00, 1.94831395e+01, 9.36186962e+00,\n",
       "       4.96572389e+00, 6.29234206e+00, 3.08889873e+01, 9.36079979e+00,\n",
       "       6.94332281e-01, 1.40364431e+00, 1.15541874e+01, 1.81891365e+00,\n",
       "       3.80578351e+00, 4.33680016e+00, 5.18894717e+00, 4.20895821e+00,\n",
       "       6.98315368e+00, 4.92275054e+00, 8.63308859e-01, 2.99843555e+00,\n",
       "       4.77343566e+00, 2.60977778e+01, 1.86209258e-01, 4.42801855e+00,\n",
       "       4.64568150e+00, 1.36132771e+01, 7.57084768e+00, 1.24261125e+01,\n",
       "       9.96441722e+00, 1.17001177e+00, 5.05702993e+00, 1.68620619e+00,\n",
       "       4.36443798e+00, 3.10557096e+00, 1.21762211e+01, 3.93836071e+00,\n",
       "       1.86409399e+01, 2.18043272e+00, 1.27610978e+01, 9.94236477e+00,\n",
       "       1.40719566e+01, 6.82177315e+00, 6.42838559e+00, 1.18519805e+01,\n",
       "       8.39924611e-01, 9.88409560e+00, 1.61002657e+01, 7.11807942e+00,\n",
       "       4.63251675e+00, 3.06069275e+00, 2.83759074e+00, 1.15141597e+01,\n",
       "       9.61193681e+00, 6.25016480e+00, 1.00084011e+00, 9.04155399e+00,\n",
       "       2.74324089e+01, 2.11490245e+01, 2.73849619e+00, 4.09441710e+01,\n",
       "       2.82407352e+00, 1.70886651e+00, 8.45228831e+00, 1.26163436e+01,\n",
       "       1.47420948e+00, 2.29941395e+01, 1.16848178e+01, 3.91653797e+01,\n",
       "       2.36054260e-02, 6.08960655e+00, 1.74874604e+01, 5.50838901e+00,\n",
       "       5.05006989e-01, 5.49668776e+00, 6.28790342e+00, 1.83401781e+01,\n",
       "       1.85166559e+01, 2.15071749e+01, 6.64121642e+00, 1.28300361e+01,\n",
       "       8.12931574e+00, 5.01609404e+00, 1.00114531e+01, 5.29048905e+01,\n",
       "       1.35198197e+00, 3.33912499e+01, 6.89316276e+00, 2.57806431e+00,\n",
       "       2.50761607e+00, 2.26877380e+01, 9.09807657e+00, 6.83530177e+00,\n",
       "       4.15450709e+00, 4.73977102e+00, 2.92531777e+00, 7.59322316e+00,\n",
       "       2.51026228e+00, 1.08450330e+00, 1.25727671e+00, 8.97134810e+00,\n",
       "       3.06130708e+01, 5.48088315e+00, 1.06243348e+01, 1.22760944e+01,\n",
       "       1.10392773e+00, 7.43181281e+00, 2.61767470e+00, 8.72387523e+00,\n",
       "       1.68925443e+01, 3.00713240e+00, 9.03854457e+00, 1.57517188e+01])"
      ]
     },
     "execution_count": 78,
     "metadata": {},
     "output_type": "execute_result"
    }
   ],
   "source": [
    "# your code here\n",
    "\n",
    "#random.exponential(scale=1.0, size=None)\n",
    "#Draw samples from an exponential distribution.\n",
    "#scale = 1/lambda\n",
    "\n",
    "#if mean 10= 1/lambda \n",
    "np.random.exponential(scale=10, size=1000)"
   ]
  },
  {
   "cell_type": "code",
   "execution_count": 79,
   "metadata": {},
   "outputs": [],
   "source": [
    "def get_exponential_rand_list(scale,size):\n",
    "    return np.random.exponential(scale=scale, size=size)"
   ]
  },
  {
   "cell_type": "code",
   "execution_count": 90,
   "metadata": {
    "scrolled": false
   },
   "outputs": [],
   "source": [
    "#get_exponential_rand_list(10,1000)"
   ]
  },
  {
   "cell_type": "code",
   "execution_count": 91,
   "metadata": {},
   "outputs": [],
   "source": [
    "#2.Use the function to generate two number sequences with a mean of 1 and 100 and a size of 1000.\n",
    "list1=get_exponential_rand_list(1,1000)\n",
    "list2=get_exponential_rand_list(100,1000)"
   ]
  },
  {
   "cell_type": "code",
   "execution_count": 94,
   "metadata": {},
   "outputs": [
    {
     "data": {
      "text/plain": [
       "Text(0, 0.5, 'Count')"
      ]
     },
     "execution_count": 94,
     "metadata": {},
     "output_type": "execute_result"
    },
    {
     "data": {
      "image/png": "[encoded data removed]",
      "text/plain": [
       "<Figure size 432x288 with 2 Axes>"
      ]
     },
     "metadata": {
      "needs_background": "light"
     },
     "output_type": "display_data"
    }
   ],
   "source": [
    "# 3. Plot the distributions as histograms with the number of bins as 100.\n",
    "\n",
    "fig, (ax1, ax2) = plt.subplots(nrows=1, ncols=2) #,sharey='row'\n",
    "fig.suptitle('Exponential Distribution Histogram', fontsize=16)\n",
    "\n",
    "\n",
    "#PLOT 1:\n",
    "ax1.hist(list1,bins=100)\n",
    "#ax1.set_xlim(-200,200)\n",
    "ax1.set_title(\"Exp(1)\")\n",
    "ax1.set_xlabel('X~Exp(1)') # x label\n",
    "ax1.set_ylabel('Count') # y label\n",
    "\n",
    "#PLOT 1:\n",
    "ax2.hist(list2,bins=100)\n",
    "ax2.set_title(\"Exp(1/100)\") #if mean is 100, then lambda\n",
    "ax2.set_xlabel('X~Exp(1/100)') # x label\n",
    "ax2.set_ylabel('Count') # y label"
   ]
  },
  {
   "cell_type": "markdown",
   "metadata": {},
   "source": [
    "How are the two distributions different?"
   ]
  },
  {
   "cell_type": "code",
   "execution_count": 93,
   "metadata": {
    "scrolled": false
   },
   "outputs": [],
   "source": [
    "#the bigger the lambda is the more spiky the graph is on the left hand side.\n",
    "# So we can see how the second graph arrives to greater values of y."
   ]
  },
  {
   "cell_type": "markdown",
   "metadata": {},
   "source": [
    "## Exponential Distribution of Real Data\n",
    "\n",
    "Suppose that the amount of time one spends in a bank is exponentially distributed with mean as 10 minutes (i.e. λ = 1/10). What is the probability that a customer will spend less than fifteen minutes in the bank? \n",
    "\n",
    "Write a code in python to solve this problem"
   ]
  },
  {
   "cell_type": "code",
   "execution_count": 96,
   "metadata": {},
   "outputs": [
    {
     "name": "stdout",
     "output_type": "stream",
     "text": [
      "0.7768698398515702\n"
     ]
    }
   ],
   "source": [
    "# your answer here\n",
    "# Hint: This is same as saying P(x<15)\n",
    "inv_lambda = 10 #( that is 1/(1/10))\n",
    "exp_distribution = expon(scale=inv_lambda) \n",
    "print(exp_distribution.cdf(15))"
   ]
  },
  {
   "cell_type": "markdown",
   "metadata": {},
   "source": [
    "What is the probability that the customer will spend more than 15 minutes"
   ]
  },
  {
   "cell_type": "code",
   "execution_count": 97,
   "metadata": {},
   "outputs": [
    {
     "name": "stdout",
     "output_type": "stream",
     "text": [
      "0.2231301601484298\n"
     ]
    }
   ],
   "source": [
    "# your answer here\n",
    "print(1-exp_distribution.cdf(15))"
   ]
  }
 ],
 "metadata": {
  "kernelspec": {
   "display_name": "Python 3 (ipykernel)",
   "language": "python",
   "name": "python3"
  },
  "language_info": {
   "codemirror_mode": {
    "name": "ipython",
    "version": 3
   },
   "file_extension": ".py",
   "mimetype": "text/x-python",
   "name": "python",
   "nbconvert_exporter": "python",
   "pygments_lexer": "ipython3",
   "version": "3.9.7"
  }
 },
 "nbformat": 4,
 "nbformat_minor": 2
}
